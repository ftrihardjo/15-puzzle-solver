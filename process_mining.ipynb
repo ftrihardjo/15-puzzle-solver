{
  "nbformat": 4,
  "nbformat_minor": 0,
  "metadata": {
    "colab": {
      "name": "multi-digit-recognition-svhn.ipynb",
      "provenance": [],
      "include_colab_link": true
    },
    "kernelspec": {
      "name": "python2",
      "display_name": "Python 2"
    }
  },
  "cells": [
    {
      "cell_type": "markdown",
      "metadata": {
        "id": "view-in-github",
        "colab_type": "text"
      },
      "source": [
        "<a href=\"https://colab.research.google.com/github/ftrihardjo/15-puzzle-solver/blob/main/process_mining.ipynb\" target=\"_parent\"><img src=\"https://colab.research.google.com/assets/colab-badge.svg\" alt=\"Open In Colab\"/></a>"
      ]
    },
    {
      "metadata": {
        "id": "I1dsidLuUQ-l"
      },
      "cell_type": "markdown",
      "source": [
        "1"
      ]
    },
    {
      "metadata": {
        "id": "_QUuHcyyF5iq",
        "colab": {
          "base_uri": "https://localhost:8080/",
          "height": 35
        },
        "outputId": "a47ed9c7-acb3-4741-f63f-df22501401de"
      },
      "cell_type": "code",
      "source": [
        "a = ['we start from both a process model and a collection of observed behavior, e.g. traces, and compare these.',\n",
        "\n",
        "'we start from event data and generate a process model, e.g. a Petri net.',\n",
        "\n",
        "'we start from a process model and generate behavior, e.g. traces.']\n",
        "a[0]"
      ],
      "execution_count": null,
      "outputs": [
        {
          "output_type": "execute_result",
          "data": {
            "text/plain": [
              "'we start from both a process model and a collection of observed behavior, e.g. traces, and compare these.'"
            ],
            "application/vnd.google.colaboratory.intrinsic+json": {
              "type": "string"
            }
          },
          "metadata": {},
          "execution_count": 33
        }
      ]
    },
    {
      "cell_type": "markdown",
      "source": [
        "2"
      ],
      "metadata": {
        "id": "_C8lU44BfJNW"
      }
    },
    {
      "metadata": {
        "id": "F_giURzYGjWO",
        "colab": {
          "base_uri": "https://localhost:8080/",
          "height": 35
        },
        "outputId": "6fde88d4-8645-471f-d846-799c5d5674c6"
      },
      "cell_type": "code",
      "source": [
        "a = ['0.4984= −12(80150log2(80150)+70150log2(70150))−21​(15080​log2​(15080​)+15070​log2​(15070​))',\n",
        "\n",
        "'0.9968= −(80150log2(80150)+70150log2(70150))−(15080​log2​(15080​)+15070​log2​(15070​))',\n",
        "\n",
        "'0.0016 = 1−(35150log2(35150)+40150log2(40150))1−(15035​log2​(15035​)+15040​log2​(15040​))',\n",
        "\n",
        "'1.0096 =  −(80150log2(70150)+70150log2(80150))−(15080​log2​(15070​)+15070​log2​(15080​))',\n",
        "\n",
        "'0.9984= −(35150log2(35150)+40150log2(40150))−(15035​log2​(15035​)+15040​log2​(15040​))',\n",
        "\n",
        "'-0.0096 =  1−(80150log2(70150)+70150log2(80150))1−(15080​log2​(15070​)+15070​log2​(15080​))',\n",
        "\n",
        "'0.0032= 1−(80150log2(80150)+70150log2(70150))1−(15080​log2​(15080​)+15070​log2​(15070​))']\n",
        "a[1]"
      ],
      "execution_count": null,
      "outputs": [
        {
          "output_type": "execute_result",
          "data": {
            "text/plain": [
              "'0.9968= −(80150log2(80150)+70150log2(70150))−(15080\\u200blog2\\u200b(15080\\u200b)+15070\\u200blog2\\u200b(15070\\u200b))'"
            ],
            "application/vnd.google.colaboratory.intrinsic+json": {
              "type": "string"
            }
          },
          "metadata": {},
          "execution_count": 34
        }
      ]
    },
    {
      "cell_type": "markdown",
      "source": [
        "3"
      ],
      "metadata": {
        "id": "fcbGFipYfKMN"
      }
    },
    {
      "cell_type": "code",
      "source": [
        "a = ['There is no dead marking, the Petri net is live, i.e., there is always a transition that can fire.',\n",
        "\n",
        "'[x, r1, r2]',\n",
        "\n",
        "'[x, r1, 3*r2 ]',\n",
        "\n",
        "'[y, r1, r2]']\n",
        "a[1]"
      ],
      "metadata": {
        "id": "PZ-VWj_gefqn",
        "outputId": "df6411cc-c796-40dd-a024-45588fc2a003",
        "colab": {
          "base_uri": "https://localhost:8080/",
          "height": 35
        }
      },
      "execution_count": null,
      "outputs": [
        {
          "output_type": "execute_result",
          "data": {
            "text/plain": [
              "'[x, r1, r2]'"
            ],
            "application/vnd.google.colaboratory.intrinsic+json": {
              "type": "string"
            }
          },
          "metadata": {},
          "execution_count": 35
        }
      ]
    },
    {
      "cell_type": "markdown",
      "source": [
        "4"
      ],
      "metadata": {
        "id": "O8w8dadRfK_W"
      }
    },
    {
      "cell_type": "code",
      "source": [
        "a = ['https://d396qusza40orc.cloudfront.net/procmin/images/Quizzes/Quiz2_9%20PN4.png',\n",
        "     'https://d396qusza40orc.cloudfront.net/procmin/images/Quizzes/Quiz2_9%20PN1.png',\n",
        "     'https://d396qusza40orc.cloudfront.net/procmin/images/Quizzes/Quiz2_9%20PN3.png',\n",
        "     'https://d396qusza40orc.cloudfront.net/procmin/images/Quizzes/Quiz2_9%20PN2.png']\n",
        "a[1]"
      ],
      "metadata": {
        "id": "MDfiWXsLeqNt",
        "outputId": "77643641-8aba-4d89-9481-ddf6db24d7c8",
        "colab": {
          "base_uri": "https://localhost:8080/",
          "height": 35
        }
      },
      "execution_count": null,
      "outputs": [
        {
          "output_type": "execute_result",
          "data": {
            "text/plain": [
              "'https://d396qusza40orc.cloudfront.net/procmin/images/Quizzes/Quiz2_9%20PN1.png'"
            ],
            "application/vnd.google.colaboratory.intrinsic+json": {
              "type": "string"
            }
          },
          "metadata": {},
          "execution_count": 36
        }
      ]
    },
    {
      "cell_type": "markdown",
      "source": [
        "5"
      ],
      "metadata": {
        "id": "K8zwnrFffMJd"
      }
    },
    {
      "cell_type": "code",
      "source": [
        "a = ['https://d396qusza40orc.cloudfront.net/procmin/images/Quizzes/QuizFinal-Q5%20PN3.png',\n",
        "     'https://d396qusza40orc.cloudfront.net/procmin/images/Quizzes/QuizFinal-Q5%20PN1.png',\n",
        "     'https://d396qusza40orc.cloudfront.net/procmin/images/Quizzes/QuizFinal-Q5%20PN2.png']\n",
        "a[1]"
      ],
      "metadata": {
        "id": "lhgITy5je46u",
        "outputId": "34ca0a0f-ad75-43b7-8501-ec5c4e21c596",
        "colab": {
          "base_uri": "https://localhost:8080/",
          "height": 35
        }
      },
      "execution_count": null,
      "outputs": [
        {
          "output_type": "execute_result",
          "data": {
            "text/plain": [
              "'https://d396qusza40orc.cloudfront.net/procmin/images/Quizzes/QuizFinal-Q5%20PN3.png'"
            ],
            "application/vnd.google.colaboratory.intrinsic+json": {
              "type": "string"
            }
          },
          "metadata": {},
          "execution_count": 37
        }
      ]
    },
    {
      "cell_type": "markdown",
      "source": [
        "6"
      ],
      "metadata": {
        "id": "wDh_GymefVR-"
      }
    },
    {
      "cell_type": "code",
      "source": [
        "a = ['https://d396qusza40orc.cloudfront.net/procmin/images/Quizzes/Quiz3-Q1%20model%201.png',\n",
        "     'https://d396qusza40orc.cloudfront.net/procmin/images/Quizzes/Quiz3-Q1%20model%202.png',\n",
        "     'https://d396qusza40orc.cloudfront.net/procmin/images/Quizzes/Quiz3-Q1%20model%203.png']\n",
        "a[1]"
      ],
      "metadata": {
        "id": "kL8jcZEyfV1l",
        "outputId": "92377c57-df6d-4791-cd95-a2451303b750",
        "colab": {
          "base_uri": "https://localhost:8080/",
          "height": 35
        }
      },
      "execution_count": null,
      "outputs": [
        {
          "output_type": "execute_result",
          "data": {
            "text/plain": [
              "'https://d396qusza40orc.cloudfront.net/procmin/images/Quizzes/Quiz3-Q1%20model%201.png'"
            ],
            "application/vnd.google.colaboratory.intrinsic+json": {
              "type": "string"
            }
          },
          "metadata": {},
          "execution_count": 38
        }
      ]
    },
    {
      "cell_type": "markdown",
      "source": [
        "7"
      ],
      "metadata": {
        "id": "hm0z4vv-fncX"
      }
    },
    {
      "cell_type": "code",
      "source": [
        "a = [48,\n",
        "\n",
        "12,\n",
        "\n",
        "6,\n",
        "\n",
        "16,\n",
        "\n",
        "24]\n",
        "a[3]"
      ],
      "metadata": {
        "id": "ItEZ_rTgfoH2",
        "outputId": "f4b29bdc-0fe8-483f-f783-c9671f615786",
        "colab": {
          "base_uri": "https://localhost:8080/"
        }
      },
      "execution_count": 3,
      "outputs": [
        {
          "output_type": "execute_result",
          "data": {
            "text/plain": [
              "16"
            ]
          },
          "metadata": {},
          "execution_count": 3
        }
      ]
    },
    {
      "cell_type": "markdown",
      "source": [
        "8"
      ],
      "metadata": {
        "id": "Q-N9lGAqfvdW"
      }
    },
    {
      "cell_type": "code",
      "source": [
        "a = ['https://d396qusza40orc.cloudfront.net/procmin/images/Quizzes/QuizFinal-Q8%20v4.png',\n",
        "     'https://d396qusza40orc.cloudfront.net/procmin/images/Quizzes/QuizFinal-Q8%20v3.png',\n",
        "     'https://d396qusza40orc.cloudfront.net/procmin/images/Quizzes/QuizFinal-Q8%20v2.png',\n",
        "     'https://d396qusza40orc.cloudfront.net/procmin/images/Quizzes/QuizFinal-Q8%20v1.png']\n",
        "a[1]"
      ],
      "metadata": {
        "id": "xUpXFzsafwGt",
        "outputId": "035d6419-d239-4a3a-cd7c-1b2626ba6a1b",
        "colab": {
          "base_uri": "https://localhost:8080/",
          "height": 35
        }
      },
      "execution_count": null,
      "outputs": [
        {
          "output_type": "execute_result",
          "data": {
            "text/plain": [
              "'https://d396qusza40orc.cloudfront.net/procmin/images/Quizzes/QuizFinal-Q8%20v3.png'"
            ],
            "application/vnd.google.colaboratory.intrinsic+json": {
              "type": "string"
            }
          },
          "metadata": {},
          "execution_count": 40
        }
      ]
    },
    {
      "cell_type": "markdown",
      "source": [
        "9"
      ],
      "metadata": {
        "id": "M5uxRXg4f--c"
      }
    },
    {
      "cell_type": "code",
      "source": [
        "a = [3,\n",
        "\n",
        "5,\n",
        "\n",
        "6,\n",
        "\n",
        "9,\n",
        "\n",
        "11,\n",
        "\n",
        "13,\n",
        "\n",
        "15]\n",
        "a[1]"
      ],
      "metadata": {
        "id": "lTbeu5F0f_jF",
        "outputId": "8e9191de-691b-42ed-98f6-143bceec7709",
        "colab": {
          "base_uri": "https://localhost:8080/"
        }
      },
      "execution_count": null,
      "outputs": [
        {
          "output_type": "execute_result",
          "data": {
            "text/plain": [
              "5"
            ]
          },
          "metadata": {},
          "execution_count": 41
        }
      ]
    },
    {
      "cell_type": "markdown",
      "source": [
        "10"
      ],
      "metadata": {
        "id": "ZRwjkpG-gEJX"
      }
    },
    {
      "cell_type": "markdown",
      "source": [
        "11"
      ],
      "metadata": {
        "id": "aDejZQRsgabs"
      }
    },
    {
      "cell_type": "markdown",
      "source": [
        "12"
      ],
      "metadata": {
        "id": "asMOAbbQgbCM"
      }
    },
    {
      "cell_type": "code",
      "source": [
        "a = ['https://d396qusza40orc.cloudfront.net/procmin/images/Quizzes/Quiz3-Q8%20c-net%20v3.png',\n",
        "     'https://d396qusza40orc.cloudfront.net/procmin/images/Quizzes/Quiz3-Q8%20c-net%20v2.png',\n",
        "     'https://d396qusza40orc.cloudfront.net/procmin/images/Quizzes/Quiz3-Q8%20c-net%20v4.png',\n",
        "     'https://d396qusza40orc.cloudfront.net/procmin/images/Quizzes/Quiz3-Q8%20c-net%20v1.png']\n",
        "a[0]"
      ],
      "metadata": {
        "id": "Er4G8ik4gbr9",
        "outputId": "cf1349e8-b4a4-480c-e5f1-952567f61701",
        "colab": {
          "base_uri": "https://localhost:8080/",
          "height": 35
        }
      },
      "execution_count": null,
      "outputs": [
        {
          "output_type": "execute_result",
          "data": {
            "text/plain": [
              "'https://d396qusza40orc.cloudfront.net/procmin/images/Quizzes/Quiz3-Q8%20c-net%20v3.png'"
            ],
            "application/vnd.google.colaboratory.intrinsic+json": {
              "type": "string"
            }
          },
          "metadata": {},
          "execution_count": 42
        }
      ]
    },
    {
      "cell_type": "markdown",
      "source": [
        "13"
      ],
      "metadata": {
        "id": "e1NEx3KCgpcc"
      }
    },
    {
      "cell_type": "code",
      "source": [
        "a = ['Of the 16 cells, 6 are different between the two tables, hence the footprint-based conformance is 1−616=1−0.375=0.6251−166​=1−0.375=0.625',\n",
        "     'Of the 10 cells that have values, 6 are different between the two tables, hence the footprint-based conformance is 1−610=1−0.6=0.41−106​=1−0.6=0.4',\n",
        "     '''Of\n",
        " the 16 cells that have values, 6 are different between the two tables,\n",
        "hence the footprint-based conformance is 1−616=1−0.375=0.6251−166​=1−0.375=0.625''',\n",
        "     '''Of\n",
        " the 10 cells that have values, 4 are different between the two tables,\n",
        "hence the footprint-based conformance is 1−410=1−0.4=0.61−104​=1−0.4=0.6''']\n",
        "a[0]"
      ],
      "metadata": {
        "id": "srlclIcPgqBN",
        "outputId": "629a0a2c-dc3d-4566-c253-68834c1a0346",
        "colab": {
          "base_uri": "https://localhost:8080/",
          "height": 35
        }
      },
      "execution_count": null,
      "outputs": [
        {
          "output_type": "execute_result",
          "data": {
            "text/plain": [
              "'Of the 16 cells, 6 are different between the two tables, hence the footprint-based conformance is 1−616=1−0.375=0.6251−166\\u200b=1−0.375=0.625'"
            ],
            "application/vnd.google.colaboratory.intrinsic+json": {
              "type": "string"
            }
          },
          "metadata": {},
          "execution_count": 43
        }
      ]
    },
    {
      "cell_type": "markdown",
      "source": [
        "14"
      ],
      "metadata": {
        "id": "qCZFqUN4hLoc"
      }
    },
    {
      "cell_type": "code",
      "source": [
        "a = ['https://d396qusza40orc.cloudfront.net/procmin/images/Quizzes/QuizFinal-Q14%20v1.png',\n",
        "     'https://d396qusza40orc.cloudfront.net/procmin/images/Quizzes/QuizFinal-Q14%20v3.png',\n",
        "     'https://d396qusza40orc.cloudfront.net/procmin/images/Quizzes/QuizFinal-Q14%20v4.png',\n",
        "     'https://d396qusza40orc.cloudfront.net/procmin/images/Quizzes/QuizFinal-Q14%20v2.png']\n",
        "a[1]"
      ],
      "metadata": {
        "id": "oMFHLPgWhMOG",
        "outputId": "95687e14-b4d2-4c19-ef29-051ae5153a81",
        "colab": {
          "base_uri": "https://localhost:8080/",
          "height": 35
        }
      },
      "execution_count": null,
      "outputs": [
        {
          "output_type": "execute_result",
          "data": {
            "text/plain": [
              "'https://d396qusza40orc.cloudfront.net/procmin/images/Quizzes/QuizFinal-Q14%20v3.png'"
            ],
            "application/vnd.google.colaboratory.intrinsic+json": {
              "type": "string"
            }
          },
          "metadata": {},
          "execution_count": 44
        }
      ]
    },
    {
      "cell_type": "markdown",
      "source": [
        "15"
      ],
      "metadata": {
        "id": "-bDYuN2nhakE"
      }
    },
    {
      "cell_type": "code",
      "source": [
        "a = ['''a\n",
        "\n",
        "\n",
        "c\n",
        "\n",
        "\n",
        ">>\n",
        "\n",
        "\n",
        "e\n",
        "\n",
        "\n",
        "f\n",
        "\n",
        "\n",
        "g\n",
        "\n",
        "\n",
        "h\n",
        "\n",
        "\n",
        "i''',\n",
        "     '''a\n",
        "\n",
        "\n",
        ">>\n",
        "\n",
        "\n",
        "c\n",
        "\n",
        "\n",
        "e\n",
        "\n",
        "\n",
        "f\n",
        "\n",
        "\n",
        "g\n",
        "\n",
        "\n",
        "h\n",
        "\n",
        "\n",
        "i''',\n",
        "     '''a\n",
        "\n",
        "\n",
        ">>\n",
        "\n",
        "\n",
        "c\n",
        "\n",
        "\n",
        ">>\n",
        "\n",
        "\n",
        ">>\n",
        "\n",
        "\n",
        "e\n",
        "\n",
        "\n",
        "f\n",
        "\n",
        "\n",
        "g\n",
        "\n",
        "\n",
        "h\n",
        "\n",
        "\n",
        "i''',\n",
        "     '''a\n",
        "\n",
        "\n",
        ">>\n",
        "\n",
        "\n",
        "c\n",
        "\n",
        "\n",
        ">>\n",
        "\n",
        "\n",
        "e\n",
        "\n",
        "\n",
        "f\n",
        "\n",
        "\n",
        "g\n",
        "\n",
        "\n",
        "h\n",
        "\n",
        "\n",
        "i''']\n",
        "import re\n",
        "re.sub(r\"\\s+\", '', a[0])"
      ],
      "metadata": {
        "id": "VO1O5qvhibqz",
        "outputId": "7dfa4696-3326-4924-e0d3-0533a271fb60",
        "colab": {
          "base_uri": "https://localhost:8080/",
          "height": 35
        }
      },
      "execution_count": null,
      "outputs": [
        {
          "output_type": "execute_result",
          "data": {
            "text/plain": [
              "'ac>>efghi'"
            ],
            "application/vnd.google.colaboratory.intrinsic+json": {
              "type": "string"
            }
          },
          "metadata": {},
          "execution_count": 45
        }
      ]
    },
    {
      "cell_type": "markdown",
      "source": [
        "16"
      ],
      "metadata": {
        "id": "OmQyz4iMhndx"
      }
    },
    {
      "cell_type": "code",
      "source": [
        "a = [0.8435,\n",
        "\n",
        "0.0911,\n",
        "\n",
        "0.8000,\n",
        "\n",
        "0.8889,\n",
        "\n",
        "0.8543,\n",
        "\n",
        "0.9000]\n",
        "a[3]"
      ],
      "metadata": {
        "id": "zsysrGwphoDp",
        "outputId": "d9cb3bc2-49df-4298-8fc6-af80c1e172f6",
        "colab": {
          "base_uri": "https://localhost:8080/"
        }
      },
      "execution_count": 2,
      "outputs": [
        {
          "output_type": "execute_result",
          "data": {
            "text/plain": [
              "0.8889"
            ]
          },
          "metadata": {},
          "execution_count": 2
        }
      ]
    },
    {
      "cell_type": "markdown",
      "source": [
        "17"
      ],
      "metadata": {
        "id": "38Ua1E3fhsaq"
      }
    },
    {
      "cell_type": "markdown",
      "source": [
        "18"
      ],
      "metadata": {
        "id": "ILhJJR3ghzWu"
      }
    },
    {
      "cell_type": "markdown",
      "source": [
        "19"
      ],
      "metadata": {
        "id": "Wr96rWBPh6MO"
      }
    },
    {
      "cell_type": "code",
      "source": [
        "a = ['...well structured, like the uncooked spaghetti in the package.',\n",
        "\n",
        "'...unstructured like a plate full of spaghetti threads running through each other.',\n",
        "\n",
        "'...connected to the internet through many wires.',\n",
        "\n",
        "'...describing a process to cook something.']\n",
        "a[1]"
      ],
      "metadata": {
        "id": "JrYsPZRFh6yW",
        "outputId": "4e2b547e-1352-44ea-dded-9a204478aaf4",
        "colab": {
          "base_uri": "https://localhost:8080/",
          "height": 35
        }
      },
      "execution_count": null,
      "outputs": [
        {
          "output_type": "execute_result",
          "data": {
            "text/plain": [
              "'...unstructured like a plate full of spaghetti threads running through each other.'"
            ],
            "application/vnd.google.colaboratory.intrinsic+json": {
              "type": "string"
            }
          },
          "metadata": {},
          "execution_count": 47
        }
      ]
    },
    {
      "cell_type": "markdown",
      "source": [
        "20"
      ],
      "metadata": {
        "id": "Z0cTifwriDU7"
      }
    },
    {
      "cell_type": "code",
      "source": [
        "a = ['The choice of process instance determines whether a dotted chart can be made.',\n",
        "\n",
        "'The choice of process instance greatly influences which events are added to the event log and whether events are duplicated.',\n",
        "\n",
        "'The choice of process instance mainly determines whether predictions and recommendations can be made.']\n",
        "a[1]"
      ],
      "metadata": {
        "id": "twUpWiZ-iEVD",
        "outputId": "7f90aab0-2c02-43c1-fd12-298a48fc26c9",
        "colab": {
          "base_uri": "https://localhost:8080/",
          "height": 35
        }
      },
      "execution_count": null,
      "outputs": [
        {
          "output_type": "execute_result",
          "data": {
            "text/plain": [
              "'The choice of process instance greatly influences which events are added to the event log and whether events are duplicated.'"
            ],
            "application/vnd.google.colaboratory.intrinsic+json": {
              "type": "string"
            }
          },
          "metadata": {},
          "execution_count": 48
        }
      ]
    }
  ]
}